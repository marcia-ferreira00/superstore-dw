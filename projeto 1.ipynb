{
  "nbformat": 4,
  "nbformat_minor": 0,
  "metadata": {
    "colab": {
      "provenance": [],
      "include_colab_link": true
    },
    "kernelspec": {
      "name": "python3",
      "display_name": "Python 3"
    },
    "language_info": {
      "name": "python"
    }
  },
  "cells": [
    {
      "cell_type": "markdown",
      "metadata": {
        "id": "view-in-github",
        "colab_type": "text"
      },
      "source": [
        "<a href=\"https://colab.research.google.com/github/marcia-ferreira00/superstore-dw/blob/master/projeto%201.ipynb\" target=\"_parent\"><img src=\"https://colab.research.google.com/assets/colab-badge.svg\" alt=\"Open In Colab\"/></a>"
      ]
    },
    {
      "cell_type": "code",
      "execution_count": null,
      "metadata": {
        "id": "Egx-gF4Eth6O"
      },
      "outputs": [],
      "source": [
        "! pip install ydata_profiling"
      ]
    },
    {
      "cell_type": "code",
      "source": [
        "import pandas as pd\n",
        "from ydata_profiling import ProfileReport\n",
        "#Importação customer\n",
        "df_customer = pd.read_csv('https://docs.google.com/spreadsheets/d/e/2PACX-1vTOFi8zRyQJS_kk8Ok1PqM1fVxGYFn_51Ve6KzonhyzxAGnr0RgiRRDjtCfILrz4u01ZblD5ZS0lAbH/pub?output=csv')\n",
        "profile_customer = ProfileReport(df_customer, title=\"Profiling Report Customer\")"
      ],
      "metadata": {
        "id": "y5dbXSMJwH8i"
      },
      "execution_count": null,
      "outputs": []
    },
    {
      "cell_type": "code",
      "source": [
        "#Profile customer\n",
        "profile_customer"
      ],
      "metadata": {
        "id": "UEDOuopsyUWx"
      },
      "execution_count": null,
      "outputs": []
    },
    {
      "cell_type": "code",
      "source": [
        "#Importação item\n",
        "df_item = pd.read_csv('https://docs.google.com/spreadsheets/d/e/2PACX-1vRaJGNlj9-T72spbQPAqFbH8prsGmW--6myxXiHjCekEB5fNbVNAwVdXL_qyxO0Mf2KMZuv8SPm5eKd/pub?output=csv')\n",
        "profile_item = ProfileReport(df_item, title=\"Profiling Report Item\")"
      ],
      "metadata": {
        "id": "S6tQ-WaA9c6d"
      },
      "execution_count": null,
      "outputs": []
    },
    {
      "cell_type": "code",
      "source": [
        "#Profile item\n",
        "profile_item"
      ],
      "metadata": {
        "id": "tyqMTmdcCsCh"
      },
      "execution_count": null,
      "outputs": []
    },
    {
      "cell_type": "code",
      "source": [
        "#Importação payment\n",
        "df_payment = pd.read_csv('https://docs.google.com/spreadsheets/d/e/2PACX-1vRB4f3Nt9RNL6izS1FbcjhzV5imXF77kTAPjcDt4gUepWxCnd242gsBM3--lJAWHnxT8QlqrgJUApSR/pub?output=csv')\n",
        "profile_payment = ProfileReport(df_payment, title=\"Profiling Report Payment\")"
      ],
      "metadata": {
        "id": "4c5lwiGRAmHR"
      },
      "execution_count": null,
      "outputs": []
    },
    {
      "cell_type": "code",
      "source": [
        "#Profile payment\n",
        "profile_payment"
      ],
      "metadata": {
        "id": "1OeoSgUkC9UP"
      },
      "execution_count": null,
      "outputs": []
    },
    {
      "cell_type": "code",
      "source": [
        "#Importação products\n",
        "df_products = pd.read_csv('https://docs.google.com/spreadsheets/d/e/2PACX-1vT6OLECf16Au4fStY7y7LPTrqmo3k7jMqHbWHrlTKbzkVxh0hlnJIZAQJ6PvIY0-WdgZz_Z7QEM-3Zy/pub?output=csv')\n",
        "profile_products = ProfileReport(df_products, title=\"Profiling Report Products\")"
      ],
      "metadata": {
        "id": "b10Y31z0B8D5"
      },
      "execution_count": null,
      "outputs": []
    },
    {
      "cell_type": "code",
      "source": [
        "#Profile products\n",
        "profile_products"
      ],
      "metadata": {
        "id": "nhu--EqcC_y8"
      },
      "execution_count": null,
      "outputs": []
    },
    {
      "cell_type": "code",
      "source": [
        "#Importação orders\n",
        "df_orders = pd.read_csv('https://docs.google.com/spreadsheets/d/e/2PACX-1vSszErkiXg6Ndy8_auFAm1ZKFvIMa0yGfjUpjIu6-Ww7he-hSa2vTxHJYhz_1EtMjtErsBdiHyVFseq/pub?output=csv')\n",
        "profile_orders = ProfileReport(df_orders, title=\"Profiling Report Orders\")"
      ],
      "metadata": {
        "id": "L8Q9qca2Cefi"
      },
      "execution_count": 8,
      "outputs": []
    },
    {
      "cell_type": "code",
      "source": [
        "#Profile orders\n",
        "profile_orders\n",
        "#Observação: faltam dados que parece ter sido esquecimento por parte do registo... Precisamos pensar como resolver estes casos, eliminamos ou permanecemos?"
      ],
      "metadata": {
        "id": "v9tL8bq2DECj"
      },
      "execution_count": null,
      "outputs": []
    },
    {
      "cell_type": "code",
      "source": [
        "#Preencher dados da coluna product_category_name vazios por sem categoria da tabela products\n",
        "df_products['product_category_name'].fillna(\"N/A\", inplace=True)"
      ],
      "metadata": {
        "id": "wQOMP7YYGolV"
      },
      "execution_count": 9,
      "outputs": []
    },
    {
      "cell_type": "code",
      "source": [
        "#Ver os dados da coluna da tabela products\n",
        "print(df_products['product_category_name'].unique())"
      ],
      "metadata": {
        "id": "n3tkv47SMhBX"
      },
      "execution_count": null,
      "outputs": []
    },
    {
      "cell_type": "code",
      "source": [
        "#Preencher dados das colunas product_name_lenght,product_description_lenght,product_photos_qty vazios por sem categoria da tabela products\n",
        "df_products['product_name_lenght'].fillna(\"N/A\", inplace=True)\n",
        "df_products['product_description_lenght'].fillna(\"N/A\", inplace=True)\n",
        "df_products['product_photos_qty'].fillna(\"N/A\", inplace=True)"
      ],
      "metadata": {
        "id": "K5XQEWIao2Ir"
      },
      "execution_count": 10,
      "outputs": []
    },
    {
      "cell_type": "code",
      "source": [
        "#Exportar tabela produtos atualizada para ficheiro excel\n",
        "df_products.to_csv('Products.csv', index=False)"
      ],
      "metadata": {
        "id": "iXNOk7F0V1Az"
      },
      "execution_count": null,
      "outputs": []
    },
    {
      "cell_type": "code",
      "source": [
        "#junção de order e customer\n",
        "df_order_customer = pd.merge(df_orders, df_customer, on='customer_id', how='inner')"
      ],
      "metadata": {
        "id": "VJHdodOvims_"
      },
      "execution_count": 11,
      "outputs": []
    },
    {
      "cell_type": "code",
      "source": [
        "#profile de order e customer\n",
        "profile_order_customer = ProfileReport(df_order_customer, title=\"Profiling Report\")\n",
        "profile_order_customer"
      ],
      "metadata": {
        "id": "pJY3IePirHIr"
      },
      "execution_count": null,
      "outputs": []
    },
    {
      "cell_type": "code",
      "source": [
        "#junção de items e products\n",
        "df_items_products = pd.merge(df_item, df_products, on='product_id', how='inner')"
      ],
      "metadata": {
        "id": "J3oB1mLFwy7c"
      },
      "execution_count": 18,
      "outputs": []
    },
    {
      "cell_type": "code",
      "source": [
        "#profile de items e products\n",
        "profile_items_products = ProfileReport(df_items_products, title=\"Profiling Report\")\n",
        "profile_items_products"
      ],
      "metadata": {
        "id": "8T9uiFowxxYB"
      },
      "execution_count": null,
      "outputs": []
    },
    {
      "cell_type": "code",
      "source": [
        "#junção de order e payments\n",
        "df_orders_payments = pd.merge(df_orders, df_payment, on='order_id', how='inner')"
      ],
      "metadata": {
        "id": "OYGKp7Mxw1me"
      },
      "execution_count": 19,
      "outputs": []
    },
    {
      "cell_type": "code",
      "source": [
        "#profile de orders e payments\n",
        "profile_orders_payments = ProfileReport(df_orders_payments, title=\"Profiling Report\")\n",
        "profile_orders_payments"
      ],
      "metadata": {
        "id": "X_1XEzauyNmu"
      },
      "execution_count": null,
      "outputs": []
    },
    {
      "cell_type": "code",
      "source": [
        "#junção de order e items\n",
        "df_orders_items = pd.merge(df_orders, df_item, on='order_id', how='inner')"
      ],
      "metadata": {
        "id": "dCb8o84bwps4"
      },
      "execution_count": 20,
      "outputs": []
    },
    {
      "cell_type": "code",
      "source": [
        "#profile de order e items\n",
        "profile_order_item = ProfileReport(df_orders_items, title=\"Profiling Report\")\n",
        "profile_order_item"
      ],
      "metadata": {
        "id": "Ya-EvIZnxE2c"
      },
      "execution_count": null,
      "outputs": []
    },
    {
      "cell_type": "code",
      "source": [
        "#tranformar coluna de string em data\n",
        "df_orders_items['order_delivered_customer_date'] = pd.to_datetime(df_orders_items['order_delivered_customer_date'])\n",
        "#criação da coluna target\n",
        "df_orders_items['target'] = df_orders_items['order_delivered_customer_date'].apply(\n",
        "    lambda x: 1 if pd.notna(x) and x.year < 2018 else 0\n",
        ")"
      ],
      "metadata": {
        "id": "91N_bwYVAshz"
      },
      "execution_count": null,
      "outputs": []
    },
    {
      "cell_type": "code",
      "source": [
        "#exportação da tabela com o target\n",
        "df_orders_items.to_csv('Tabela_target.csv', index=False)"
      ],
      "metadata": {
        "id": "9y7J10olBsPA"
      },
      "execution_count": null,
      "outputs": []
    },
    {
      "cell_type": "code",
      "source": [
        "# Contando os pedidos por cliente\n",
        "order_counts = df_orders.groupby('customer_id').size().reset_index(name='order_count')"
      ],
      "metadata": {
        "id": "34fHK9Z_HMV4"
      },
      "execution_count": 22,
      "outputs": []
    },
    {
      "cell_type": "code",
      "source": [
        "print(order_counts.head())"
      ],
      "metadata": {
        "id": "Mo14wMxHH41r"
      },
      "execution_count": null,
      "outputs": []
    },
    {
      "cell_type": "code",
      "source": [
        "#tentativa 1 junção da tabela principal e customer\n",
        "df_try_1= pd.merge(df_orders_items, df_customer, on='customer_id', how='inner')\n",
        "# Converter a coluna para float\n",
        "df_try_1['price'] = df_try_1['price'].astype(float)\n",
        "df_try_1['target'] = df_try_1['target'].astype(float)"
      ],
      "metadata": {
        "id": "XzshDAsbE2aR"
      },
      "execution_count": 23,
      "outputs": []
    },
    {
      "cell_type": "code",
      "source": [
        "# Se 'df_try_1' é o seu DataFrame\n",
        "target_count = df_try_1['target'].value_counts()\n",
        "\n",
        "# Exibir os resultados\n",
        "print(target_count)\n"
      ],
      "metadata": {
        "colab": {
          "base_uri": "https://localhost:8080/"
        },
        "id": "W5XgElZpg52N",
        "outputId": "35b5179f-a1b6-4de2-f306-2a3aaedee16a"
      },
      "execution_count": 24,
      "outputs": [
        {
          "output_type": "stream",
          "name": "stdout",
          "text": [
            "target\n",
            "0.0    65524\n",
            "1.0    47126\n",
            "Name: count, dtype: int64\n"
          ]
        }
      ]
    },
    {
      "cell_type": "code",
      "source": [
        "! pip install openpyxl"
      ],
      "metadata": {
        "id": "AxZTrONBFrhw",
        "colab": {
          "base_uri": "https://localhost:8080/"
        },
        "outputId": "d21d163b-8495-4570-97b0-b510840c8015"
      },
      "execution_count": 25,
      "outputs": [
        {
          "output_type": "stream",
          "name": "stdout",
          "text": [
            "Requirement already satisfied: openpyxl in /usr/local/lib/python3.10/dist-packages (3.1.2)\n",
            "Requirement already satisfied: et-xmlfile in /usr/local/lib/python3.10/dist-packages (from openpyxl) (1.1.0)\n"
          ]
        }
      ]
    },
    {
      "cell_type": "code",
      "source": [
        "# Escrever o DataFrame para um arquivo Excel\n",
        "df_try_1.to_excel('TRY_1.xlsx', index=False, engine='openpyxl')"
      ],
      "metadata": {
        "id": "0THfVlIGKEhE"
      },
      "execution_count": 26,
      "outputs": []
    },
    {
      "cell_type": "code",
      "source": [
        "import matplotlib.pyplot as plt\n",
        "\n",
        "# Exemplo de plotagem de um gráfico de barras para visualização\n",
        "df_try_1.plot(kind='bar', x='customer_id', y='price', color='blue', figsize=(10, 6))\n",
        "plt.title('Total dinheiro gasto por Cliente')\n",
        "plt.xlabel('ID do Cliente')\n",
        "plt.ylabel('Preço total')\n",
        "plt.show()"
      ],
      "metadata": {
        "id": "MbPiE_szH8SG"
      },
      "execution_count": null,
      "outputs": []
    }
  ]
}